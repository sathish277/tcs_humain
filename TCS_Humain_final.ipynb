{
 "cells": [
  {
   "cell_type": "markdown",
   "metadata": {},
   "source": [
    "# importing the neccessary libraries"
   ]
  },
  {
   "cell_type": "code",
   "execution_count": 1,
   "metadata": {},
   "outputs": [],
   "source": [
    "import pandas as pd\n",
    "import re\n",
    "import nltk\n",
    "from nltk.corpus import stopwords"
   ]
  },
  {
   "cell_type": "code",
   "execution_count": 2,
   "metadata": {},
   "outputs": [],
   "source": [
    "import numpy as np\n",
    "from sklearn.preprocessing import MultiLabelBinarizer\n",
    "from sklearn.utils import shuffle\n",
    "import warnings\n",
    "warnings.filterwarnings(\"ignore\")"
   ]
  },
  {
   "cell_type": "code",
   "execution_count": 3,
   "metadata": {},
   "outputs": [
    {
     "name": "stderr",
     "output_type": "stream",
     "text": [
      "Using TensorFlow backend.\n"
     ]
    }
   ],
   "source": [
    "import tensorflow as tf\n",
    "from keras.optimizers import *\n",
    "from keras import regularizers\n",
    "from tensorflow.keras.layers import Dense,Dropout\n",
    "from tensorflow.keras.models import Sequential\n",
    "from tensorflow.keras.preprocessing import text"
   ]
  },
  {
   "cell_type": "code",
   "execution_count": 4,
   "metadata": {},
   "outputs": [],
   "source": [
    "import pickle"
   ]
  },
  {
   "cell_type": "markdown",
   "metadata": {},
   "source": [
    "# reading the data"
   ]
  },
  {
   "cell_type": "code",
   "execution_count": 5,
   "metadata": {},
   "outputs": [],
   "source": [
    "train=pd.read_csv(\"E:/TCS_data/train.csv\",nrows=150000)\n",
    "#test=pd.read_csv(\"E:/TCS_data/Test.csv\",nrows=100000)"
   ]
  },
  {
   "cell_type": "code",
   "execution_count": 6,
   "metadata": {},
   "outputs": [
    {
     "name": "stdout",
     "output_type": "stream",
     "text": [
      "Index(['Id', 'Title', 'Body', 'Tags'], dtype='object')\n"
     ]
    }
   ],
   "source": [
    "print(train.columns) # getting the columns"
   ]
  },
  {
   "cell_type": "code",
   "execution_count": 7,
   "metadata": {
    "scrolled": false
   },
   "outputs": [
    {
     "data": {
      "text/html": [
       "<div>\n",
       "<style scoped>\n",
       "    .dataframe tbody tr th:only-of-type {\n",
       "        vertical-align: middle;\n",
       "    }\n",
       "\n",
       "    .dataframe tbody tr th {\n",
       "        vertical-align: top;\n",
       "    }\n",
       "\n",
       "    .dataframe thead th {\n",
       "        text-align: right;\n",
       "    }\n",
       "</style>\n",
       "<table border=\"1\" class=\"dataframe\">\n",
       "  <thead>\n",
       "    <tr style=\"text-align: right;\">\n",
       "      <th></th>\n",
       "      <th>Id</th>\n",
       "      <th>Title</th>\n",
       "      <th>Body</th>\n",
       "      <th>Tags</th>\n",
       "    </tr>\n",
       "  </thead>\n",
       "  <tbody>\n",
       "    <tr>\n",
       "      <th>0</th>\n",
       "      <td>1</td>\n",
       "      <td>How to check if an uploaded file is an image w...</td>\n",
       "      <td>&lt;p&gt;I'd like to check if an uploaded file is an...</td>\n",
       "      <td>php image-processing file-upload upload mime-t...</td>\n",
       "    </tr>\n",
       "    <tr>\n",
       "      <th>1</th>\n",
       "      <td>2</td>\n",
       "      <td>How can I prevent firefox from closing when I ...</td>\n",
       "      <td>&lt;p&gt;In my favorite editor (vim), I regularly us...</td>\n",
       "      <td>firefox</td>\n",
       "    </tr>\n",
       "    <tr>\n",
       "      <th>2</th>\n",
       "      <td>3</td>\n",
       "      <td>R Error Invalid type (list) for variable</td>\n",
       "      <td>&lt;p&gt;I am import matlab file and construct a dat...</td>\n",
       "      <td>r matlab machine-learning</td>\n",
       "    </tr>\n",
       "    <tr>\n",
       "      <th>3</th>\n",
       "      <td>4</td>\n",
       "      <td>How do I replace special characters in a URL?</td>\n",
       "      <td>&lt;p&gt;This is probably very simple, but I simply ...</td>\n",
       "      <td>c# url encoding</td>\n",
       "    </tr>\n",
       "    <tr>\n",
       "      <th>4</th>\n",
       "      <td>5</td>\n",
       "      <td>How to modify whois contact details?</td>\n",
       "      <td>&lt;pre&gt;&lt;code&gt;function modify(.......)\\n{\\n  $mco...</td>\n",
       "      <td>php api file-get-contents</td>\n",
       "    </tr>\n",
       "  </tbody>\n",
       "</table>\n",
       "</div>"
      ],
      "text/plain": [
       "   Id                                              Title  \\\n",
       "0   1  How to check if an uploaded file is an image w...   \n",
       "1   2  How can I prevent firefox from closing when I ...   \n",
       "2   3           R Error Invalid type (list) for variable   \n",
       "3   4      How do I replace special characters in a URL?   \n",
       "4   5               How to modify whois contact details?   \n",
       "\n",
       "                                                Body  \\\n",
       "0  <p>I'd like to check if an uploaded file is an...   \n",
       "1  <p>In my favorite editor (vim), I regularly us...   \n",
       "2  <p>I am import matlab file and construct a dat...   \n",
       "3  <p>This is probably very simple, but I simply ...   \n",
       "4  <pre><code>function modify(.......)\\n{\\n  $mco...   \n",
       "\n",
       "                                                Tags  \n",
       "0  php image-processing file-upload upload mime-t...  \n",
       "1                                            firefox  \n",
       "2                          r matlab machine-learning  \n",
       "3                                    c# url encoding  \n",
       "4                          php api file-get-contents  "
      ]
     },
     "execution_count": 7,
     "metadata": {},
     "output_type": "execute_result"
    }
   ],
   "source": [
    "train.head()\n",
    "#print(train.columns)"
   ]
  },
  {
   "cell_type": "code",
   "execution_count": 8,
   "metadata": {},
   "outputs": [
    {
     "data": {
      "text/plain": [
       "(150000, 4)"
      ]
     },
     "execution_count": 8,
     "metadata": {},
     "output_type": "execute_result"
    }
   ],
   "source": [
    "train.shape"
   ]
  },
  {
   "cell_type": "markdown",
   "metadata": {},
   "source": [
    "# preprocessing the data"
   ]
  },
  {
   "cell_type": "code",
   "execution_count": 9,
   "metadata": {},
   "outputs": [],
   "source": [
    "#function to remove html tags from data\n",
    "def remove_html(text):\n",
    "    tag = re.compile(r'<.*?>')\n",
    "    return tag.sub('', text)"
   ]
  },
  {
   "cell_type": "code",
   "execution_count": 10,
   "metadata": {},
   "outputs": [],
   "source": [
    "#removing the html tags from Body column\n",
    "for i in range(train.shape[0]):\n",
    "    train.loc[i, 'Body'] = remove_html(train.loc[i,'Body'])"
   ]
  },
  {
   "cell_type": "code",
   "execution_count": 11,
   "metadata": {},
   "outputs": [
    {
     "data": {
      "text/html": [
       "<div>\n",
       "<style scoped>\n",
       "    .dataframe tbody tr th:only-of-type {\n",
       "        vertical-align: middle;\n",
       "    }\n",
       "\n",
       "    .dataframe tbody tr th {\n",
       "        vertical-align: top;\n",
       "    }\n",
       "\n",
       "    .dataframe thead th {\n",
       "        text-align: right;\n",
       "    }\n",
       "</style>\n",
       "<table border=\"1\" class=\"dataframe\">\n",
       "  <thead>\n",
       "    <tr style=\"text-align: right;\">\n",
       "      <th></th>\n",
       "      <th>Id</th>\n",
       "      <th>Title</th>\n",
       "      <th>Body</th>\n",
       "      <th>Tags</th>\n",
       "    </tr>\n",
       "  </thead>\n",
       "  <tbody>\n",
       "    <tr>\n",
       "      <th>0</th>\n",
       "      <td>1</td>\n",
       "      <td>How to check if an uploaded file is an image w...</td>\n",
       "      <td>I'd like to check if an uploaded file is an im...</td>\n",
       "      <td>php image-processing file-upload upload mime-t...</td>\n",
       "    </tr>\n",
       "    <tr>\n",
       "      <th>1</th>\n",
       "      <td>2</td>\n",
       "      <td>How can I prevent firefox from closing when I ...</td>\n",
       "      <td>In my favorite editor (vim), I regularly use c...</td>\n",
       "      <td>firefox</td>\n",
       "    </tr>\n",
       "    <tr>\n",
       "      <th>2</th>\n",
       "      <td>3</td>\n",
       "      <td>R Error Invalid type (list) for variable</td>\n",
       "      <td>I am import matlab file and construct a data f...</td>\n",
       "      <td>r matlab machine-learning</td>\n",
       "    </tr>\n",
       "    <tr>\n",
       "      <th>3</th>\n",
       "      <td>4</td>\n",
       "      <td>How do I replace special characters in a URL?</td>\n",
       "      <td>This is probably very simple, but I simply can...</td>\n",
       "      <td>c# url encoding</td>\n",
       "    </tr>\n",
       "    <tr>\n",
       "      <th>4</th>\n",
       "      <td>5</td>\n",
       "      <td>How to modify whois contact details?</td>\n",
       "      <td>function modify(.......)\\n{\\n  $mcontact = fil...</td>\n",
       "      <td>php api file-get-contents</td>\n",
       "    </tr>\n",
       "  </tbody>\n",
       "</table>\n",
       "</div>"
      ],
      "text/plain": [
       "   Id                                              Title  \\\n",
       "0   1  How to check if an uploaded file is an image w...   \n",
       "1   2  How can I prevent firefox from closing when I ...   \n",
       "2   3           R Error Invalid type (list) for variable   \n",
       "3   4      How do I replace special characters in a URL?   \n",
       "4   5               How to modify whois contact details?   \n",
       "\n",
       "                                                Body  \\\n",
       "0  I'd like to check if an uploaded file is an im...   \n",
       "1  In my favorite editor (vim), I regularly use c...   \n",
       "2  I am import matlab file and construct a data f...   \n",
       "3  This is probably very simple, but I simply can...   \n",
       "4  function modify(.......)\\n{\\n  $mcontact = fil...   \n",
       "\n",
       "                                                Tags  \n",
       "0  php image-processing file-upload upload mime-t...  \n",
       "1                                            firefox  \n",
       "2                          r matlab machine-learning  \n",
       "3                                    c# url encoding  \n",
       "4                          php api file-get-contents  "
      ]
     },
     "execution_count": 11,
     "metadata": {},
     "output_type": "execute_result"
    }
   ],
   "source": [
    "train.head()"
   ]
  },
  {
   "cell_type": "code",
   "execution_count": 12,
   "metadata": {},
   "outputs": [],
   "source": [
    "def clean_words(sentence):#cleaning the text data\n",
    "    sentence = sentence.lower()                # Converting to lowercase\n",
    "    rem=re.compile(r'[^\\w]')\n",
    "    sentence=re.sub(rem,r' ', sentence)\n",
    "    sentence=re.sub(r'(?:^| )\\w(?:$| )', r' ', sentence)#removing single characters\n",
    "    sentence = re.sub(r'[?$|!|\\':|\"|#]',r' ',sentence)\n",
    "    sentence = re.sub(r'[.|,|)|(|\\|/]\\\"\\\"]',r' ',sentence)#Removing Punctuations\n",
    "    sentence=re.sub(r'\\d+',' ',sentence)\n",
    "    return sentence"
   ]
  },
  {
   "cell_type": "code",
   "execution_count": 13,
   "metadata": {},
   "outputs": [],
   "source": [
    "#removing  unneccessary symbols from\n",
    "for column in train:\n",
    "    if(column=='Title' or column=='Body'):\n",
    "        for i in range(train.shape[0]):\n",
    "            train.loc[i, column] =clean_words(train.loc[i,column])\n",
    "# for column in train:\n",
    "#     index=0\n",
    "#     if(column=='Title' or column=='Body'):\n",
    "#         for sentence in train[column]:\n",
    "#             cleaned_word=clean_words(sentence)\n",
    "#             train[column][index]=cleaned_word  \n",
    "#             index+=1"
   ]
  },
  {
   "cell_type": "code",
   "execution_count": 14,
   "metadata": {},
   "outputs": [
    {
     "data": {
      "text/html": [
       "<div>\n",
       "<style scoped>\n",
       "    .dataframe tbody tr th:only-of-type {\n",
       "        vertical-align: middle;\n",
       "    }\n",
       "\n",
       "    .dataframe tbody tr th {\n",
       "        vertical-align: top;\n",
       "    }\n",
       "\n",
       "    .dataframe thead th {\n",
       "        text-align: right;\n",
       "    }\n",
       "</style>\n",
       "<table border=\"1\" class=\"dataframe\">\n",
       "  <thead>\n",
       "    <tr style=\"text-align: right;\">\n",
       "      <th></th>\n",
       "      <th>Id</th>\n",
       "      <th>Title</th>\n",
       "      <th>Body</th>\n",
       "      <th>Tags</th>\n",
       "    </tr>\n",
       "  </thead>\n",
       "  <tbody>\n",
       "    <tr>\n",
       "      <th>0</th>\n",
       "      <td>1</td>\n",
       "      <td>how to check if an uploaded file is an image w...</td>\n",
       "      <td>d like to check if an uploaded file is an ima...</td>\n",
       "      <td>php image-processing file-upload upload mime-t...</td>\n",
       "    </tr>\n",
       "    <tr>\n",
       "      <th>1</th>\n",
       "      <td>2</td>\n",
       "      <td>how can prevent firefox from closing when pres...</td>\n",
       "      <td>in my favorite editor  vim   regularly use ctr...</td>\n",
       "      <td>firefox</td>\n",
       "    </tr>\n",
       "    <tr>\n",
       "      <th>2</th>\n",
       "      <td>3</td>\n",
       "      <td>error invalid type  list  for variable</td>\n",
       "      <td>am import matlab file and construct data fram...</td>\n",
       "      <td>r matlab machine-learning</td>\n",
       "    </tr>\n",
       "    <tr>\n",
       "      <th>3</th>\n",
       "      <td>4</td>\n",
       "      <td>how do replace special characters in url</td>\n",
       "      <td>this is probably very simple  but simply canno...</td>\n",
       "      <td>c# url encoding</td>\n",
       "    </tr>\n",
       "    <tr>\n",
       "      <th>4</th>\n",
       "      <td>5</td>\n",
       "      <td>how to modify whois contact details</td>\n",
       "      <td>function modify               mcontact   file_...</td>\n",
       "      <td>php api file-get-contents</td>\n",
       "    </tr>\n",
       "  </tbody>\n",
       "</table>\n",
       "</div>"
      ],
      "text/plain": [
       "   Id                                              Title  \\\n",
       "0   1  how to check if an uploaded file is an image w...   \n",
       "1   2  how can prevent firefox from closing when pres...   \n",
       "2   3             error invalid type  list  for variable   \n",
       "3   4          how do replace special characters in url    \n",
       "4   5               how to modify whois contact details    \n",
       "\n",
       "                                                Body  \\\n",
       "0   d like to check if an uploaded file is an ima...   \n",
       "1  in my favorite editor  vim   regularly use ctr...   \n",
       "2   am import matlab file and construct data fram...   \n",
       "3  this is probably very simple  but simply canno...   \n",
       "4  function modify               mcontact   file_...   \n",
       "\n",
       "                                                Tags  \n",
       "0  php image-processing file-upload upload mime-t...  \n",
       "1                                            firefox  \n",
       "2                          r matlab machine-learning  \n",
       "3                                    c# url encoding  \n",
       "4                          php api file-get-contents  "
      ]
     },
     "execution_count": 14,
     "metadata": {},
     "output_type": "execute_result"
    }
   ],
   "source": [
    "train.head()"
   ]
  },
  {
   "cell_type": "code",
   "execution_count": 15,
   "metadata": {},
   "outputs": [],
   "source": [
    "#stop words \n",
    "stop_words=stopwords.words('english')"
   ]
  },
  {
   "cell_type": "code",
   "execution_count": 16,
   "metadata": {},
   "outputs": [],
   "source": [
    "#tokenization\n",
    "tokenized_doc_body=train['Body'].apply(lambda x:x.split())\n",
    "tokenized_doc_title=train['Title'].apply(lambda x:x.split())\n",
    "#remove stop_words\n",
    "tokenized_doc_body=tokenized_doc_body.apply(lambda x:[item for item in x if item not in stop_words])\n",
    "tokenized_doc_title=tokenized_doc_title.apply(lambda x:[item for item in x if item not in stop_words])\n",
    "#de-tokenization\n",
    "detokenized_doc_body=[]\n",
    "detokenized_doc_title=[]\n",
    "for i in range(train.shape[0]):\n",
    "    t1=' '.join(tokenized_doc_body[i])\n",
    "    t2=' '.join(tokenized_doc_title[i])\n",
    "    detokenized_doc_body.append(t1)\n",
    "    detokenized_doc_title.append(t2)\n",
    "train['Body']= detokenized_doc_body\n",
    "train['Title']= detokenized_doc_title\n",
    "# def stop_words_remove(text):\n",
    "#     tokenize_text=text.apply(lambda x:x.split())\n",
    "#     final=tokenize_text.apply(lambda x:[item for item in x if item not in stop_words])\n",
    "#     #de-tokenize\n",
    "#     de_token=' '.join(final)\n",
    "#     return de_token"
   ]
  },
  {
   "cell_type": "code",
   "execution_count": 17,
   "metadata": {},
   "outputs": [
    {
     "data": {
      "text/html": [
       "<div>\n",
       "<style scoped>\n",
       "    .dataframe tbody tr th:only-of-type {\n",
       "        vertical-align: middle;\n",
       "    }\n",
       "\n",
       "    .dataframe tbody tr th {\n",
       "        vertical-align: top;\n",
       "    }\n",
       "\n",
       "    .dataframe thead th {\n",
       "        text-align: right;\n",
       "    }\n",
       "</style>\n",
       "<table border=\"1\" class=\"dataframe\">\n",
       "  <thead>\n",
       "    <tr style=\"text-align: right;\">\n",
       "      <th></th>\n",
       "      <th>Id</th>\n",
       "      <th>Title</th>\n",
       "      <th>Body</th>\n",
       "      <th>Tags</th>\n",
       "    </tr>\n",
       "  </thead>\n",
       "  <tbody>\n",
       "    <tr>\n",
       "      <th>0</th>\n",
       "      <td>1</td>\n",
       "      <td>check uploaded file image without mime type</td>\n",
       "      <td>like check uploaded file image file g png jpg ...</td>\n",
       "      <td>php image-processing file-upload upload mime-t...</td>\n",
       "    </tr>\n",
       "    <tr>\n",
       "      <th>1</th>\n",
       "      <td>2</td>\n",
       "      <td>prevent firefox closing press ctrl</td>\n",
       "      <td>favorite editor vim regularly use ctrl execute...</td>\n",
       "      <td>firefox</td>\n",
       "    </tr>\n",
       "    <tr>\n",
       "      <th>2</th>\n",
       "      <td>3</td>\n",
       "      <td>error invalid type list variable</td>\n",
       "      <td>import matlab file construct data frame matlab...</td>\n",
       "      <td>r matlab machine-learning</td>\n",
       "    </tr>\n",
       "    <tr>\n",
       "      <th>3</th>\n",
       "      <td>4</td>\n",
       "      <td>replace special characters url</td>\n",
       "      <td>probably simple simply cannot find answer basi...</td>\n",
       "      <td>c# url encoding</td>\n",
       "    </tr>\n",
       "    <tr>\n",
       "      <th>4</th>\n",
       "      <td>5</td>\n",
       "      <td>modify whois contact details</td>\n",
       "      <td>function modify mcontact file_get_contents htt...</td>\n",
       "      <td>php api file-get-contents</td>\n",
       "    </tr>\n",
       "  </tbody>\n",
       "</table>\n",
       "</div>"
      ],
      "text/plain": [
       "   Id                                        Title  \\\n",
       "0   1  check uploaded file image without mime type   \n",
       "1   2           prevent firefox closing press ctrl   \n",
       "2   3             error invalid type list variable   \n",
       "3   4               replace special characters url   \n",
       "4   5                 modify whois contact details   \n",
       "\n",
       "                                                Body  \\\n",
       "0  like check uploaded file image file g png jpg ...   \n",
       "1  favorite editor vim regularly use ctrl execute...   \n",
       "2  import matlab file construct data frame matlab...   \n",
       "3  probably simple simply cannot find answer basi...   \n",
       "4  function modify mcontact file_get_contents htt...   \n",
       "\n",
       "                                                Tags  \n",
       "0  php image-processing file-upload upload mime-t...  \n",
       "1                                            firefox  \n",
       "2                          r matlab machine-learning  \n",
       "3                                    c# url encoding  \n",
       "4                          php api file-get-contents  "
      ]
     },
     "execution_count": 17,
     "metadata": {},
     "output_type": "execute_result"
    }
   ],
   "source": [
    "train.head(5)\n",
    "# for column in train:\n",
    "#     if(column=='Title' or column=='Body'):\n",
    "#         for i in range(train.shape[0]):\n",
    "#             train.loc[i, column] =stop_words_remove(train.loc[i,column])"
   ]
  },
  {
   "cell_type": "markdown",
   "metadata": {},
   "source": [
    "# encoding the tags using multilabelbinarizer"
   ]
  },
  {
   "cell_type": "code",
   "execution_count": 18,
   "metadata": {},
   "outputs": [],
   "source": [
    "train=shuffle(train,random_state=5)"
   ]
  },
  {
   "cell_type": "code",
   "execution_count": 19,
   "metadata": {},
   "outputs": [
    {
     "data": {
      "text/html": [
       "<div>\n",
       "<style scoped>\n",
       "    .dataframe tbody tr th:only-of-type {\n",
       "        vertical-align: middle;\n",
       "    }\n",
       "\n",
       "    .dataframe tbody tr th {\n",
       "        vertical-align: top;\n",
       "    }\n",
       "\n",
       "    .dataframe thead th {\n",
       "        text-align: right;\n",
       "    }\n",
       "</style>\n",
       "<table border=\"1\" class=\"dataframe\">\n",
       "  <thead>\n",
       "    <tr style=\"text-align: right;\">\n",
       "      <th></th>\n",
       "      <th>Id</th>\n",
       "      <th>Title</th>\n",
       "      <th>Body</th>\n",
       "      <th>Tags</th>\n",
       "    </tr>\n",
       "  </thead>\n",
       "  <tbody>\n",
       "    <tr>\n",
       "      <th>76752</th>\n",
       "      <td>76753</td>\n",
       "      <td>dynamic element width ie subpixel precision</td>\n",
       "      <td>divs left center right want position line spec...</td>\n",
       "      <td>javascript jquery css</td>\n",
       "    </tr>\n",
       "    <tr>\n",
       "      <th>120848</th>\n",
       "      <td>120849</td>\n",
       "      <td>mail merge vista word windows live mail</td>\n",
       "      <td>mail merge send email word windows live mail i...</td>\n",
       "      <td>microsoft-word microsoft-office office-2007 wi...</td>\n",
       "    </tr>\n",
       "    <tr>\n",
       "      <th>131453</th>\n",
       "      <td>131454</td>\n",
       "      <td>cannot receive greeting message remote mail se...</td>\n",
       "      <td>trying setup mail server postfix amp dovecot u...</td>\n",
       "      <td>linux ubuntu email postfix mailserver</td>\n",
       "    </tr>\n",
       "    <tr>\n",
       "      <th>67124</th>\n",
       "      <td>67125</td>\n",
       "      <td>txt separate strings</td>\n",
       "      <td>trying take chars txt file words text become s...</td>\n",
       "      <td>c string text-files strtok</td>\n",
       "    </tr>\n",
       "    <tr>\n",
       "      <th>129100</th>\n",
       "      <td>129101</td>\n",
       "      <td>changing flash files screen clicking button</td>\n",
       "      <td>trying develop way change flash file displayed...</td>\n",
       "      <td>flash</td>\n",
       "    </tr>\n",
       "  </tbody>\n",
       "</table>\n",
       "</div>"
      ],
      "text/plain": [
       "            Id                                              Title  \\\n",
       "76752    76753        dynamic element width ie subpixel precision   \n",
       "120848  120849            mail merge vista word windows live mail   \n",
       "131453  131454  cannot receive greeting message remote mail se...   \n",
       "67124    67125                               txt separate strings   \n",
       "129100  129101        changing flash files screen clicking button   \n",
       "\n",
       "                                                     Body  \\\n",
       "76752   divs left center right want position line spec...   \n",
       "120848  mail merge send email word windows live mail i...   \n",
       "131453  trying setup mail server postfix amp dovecot u...   \n",
       "67124   trying take chars txt file words text become s...   \n",
       "129100  trying develop way change flash file displayed...   \n",
       "\n",
       "                                                     Tags  \n",
       "76752                               javascript jquery css  \n",
       "120848  microsoft-word microsoft-office office-2007 wi...  \n",
       "131453              linux ubuntu email postfix mailserver  \n",
       "67124                          c string text-files strtok  \n",
       "129100                                              flash  "
      ]
     },
     "execution_count": 19,
     "metadata": {},
     "output_type": "execute_result"
    }
   ],
   "source": [
    "train.head()"
   ]
  },
  {
   "cell_type": "code",
   "execution_count": 20,
   "metadata": {},
   "outputs": [],
   "source": [
    "#encode tags to multi-hot\n",
    "train_tags=[]\n",
    "for tag in train['Tags'].values:\n",
    "    tags=[i for i in tag.split()]\n",
    "    train_tags.append(tags)\n",
    "#print(train_topics,'\\n')\n",
    "topic_encoder=MultiLabelBinarizer()\n",
    "topic_encoded=topic_encoder.fit_transform(train_tags)"
   ]
  },
  {
   "cell_type": "code",
   "execution_count": 21,
   "metadata": {},
   "outputs": [
    {
     "name": "stdout",
     "output_type": "stream",
     "text": [
      "21528\n",
      "['.a' '.aspxauth' '.bash-profile' ... 'zypper' 'zywall' 'zyxel']\n",
      "[0 0 0 ... 0 0 0]\n"
     ]
    }
   ],
   "source": [
    "num_tags=len(topic_encoded[0])\n",
    "print(num_tags)\n",
    "print(topic_encoder.classes_)\n",
    "print(topic_encoded[0])"
   ]
  },
  {
   "cell_type": "markdown",
   "metadata": {},
   "source": [
    "# to get document term matrix we use this function"
   ]
  },
  {
   "cell_type": "code",
   "execution_count": 22,
   "metadata": {},
   "outputs": [],
   "source": [
    "#tokenize\n",
    "class TextPreprocessor(object):\n",
    "    def __init__(self,vocab_size):\n",
    "        self._vocab_size=vocab_size\n",
    "        self._tokenizer=None\n",
    "    def create_tokenizer(self,text_list):\n",
    "        tokenizer=text.Tokenizer(num_words=self._vocab_size,filters='!\"#$%&()*+,-./:;<=>?@[\\\\]^_`{|}~\\t\\n')\n",
    "        tokenizer.fit_on_texts(text_list)\n",
    "        self._tokenizer=tokenizer\n",
    "    def transform_text(self,text_list):\n",
    "        text_matrix=self._tokenizer.texts_to_matrix(text_list)\n",
    "        return text_matrix"
   ]
  },
  {
   "cell_type": "code",
   "execution_count": 23,
   "metadata": {},
   "outputs": [],
   "source": [
    "train_body=train['Body'].values\n",
    "#train_title=train['Title'].values\n",
    "# #test_text=test_data['Review Text'].values\n",
    "# #test_title=test_data['Review Title'].values\n",
    "# for i in range(train.shape[0]):\n",
    "#     train[i]=train_text[i]+train_title[i]\n",
    "# for i in range(test_text.shape[0]):\n",
    "#     test_text[i]=test_text[i]+test_title[i]"
   ]
  },
  {
   "cell_type": "code",
   "execution_count": 24,
   "metadata": {},
   "outputs": [],
   "source": [
    "vocab_size=600\n",
    "processor=TextPreprocessor(vocab_size)\n",
    "processor.create_tokenizer(train_body)\n",
    "body_text=processor.transform_text(train_body)\n",
    "#body_title=processor.transform_text(train_title)"
   ]
  },
  {
   "cell_type": "code",
   "execution_count": 25,
   "metadata": {},
   "outputs": [],
   "source": [
    "with open('./processor_state_f1.pkl','wb') as f:\n",
    "    pickle.dump(processor,f)"
   ]
  },
  {
   "cell_type": "markdown",
   "metadata": {},
   "source": [
    "# horizontally stacking up the  body and title column term matrices"
   ]
  },
  {
   "cell_type": "code",
   "execution_count": 26,
   "metadata": {},
   "outputs": [],
   "source": [
    "#total_data=np.hstack(body_tile,body_text)"
   ]
  },
  {
   "cell_type": "code",
   "execution_count": 27,
   "metadata": {},
   "outputs": [
    {
     "name": "stdout",
     "output_type": "stream",
     "text": [
      "600\n",
      "[0. 1. 1. 1. 0. 0. 0. 0. 0. 0. 0. 0. 0. 0. 0. 1. 0. 0. 0. 0. 0. 0. 0. 0.\n",
      " 0. 0. 0. 0. 0. 0. 0. 0. 0. 1. 0. 0. 1. 1. 0. 0. 1. 0. 0. 0. 0. 0. 0. 0.\n",
      " 0. 0. 0. 0. 0. 0. 0. 0. 0. 0. 0. 0. 0. 0. 0. 0. 0. 0. 1. 0. 1. 0. 0. 1.\n",
      " 0. 0. 0. 0. 0. 1. 0. 0. 0. 0. 0. 0. 0. 1. 0. 0. 0. 0. 0. 0. 0. 0. 0. 0.\n",
      " 1. 0. 0. 0. 1. 0. 0. 0. 1. 1. 0. 0. 1. 0. 0. 0. 0. 0. 0. 0. 0. 0. 0. 1.\n",
      " 0. 0. 0. 0. 0. 0. 0. 0. 0. 0. 0. 1. 0. 0. 0. 0. 0. 0. 0. 0. 0. 0. 0. 0.\n",
      " 0. 0. 0. 0. 0. 0. 0. 1. 0. 0. 0. 0. 0. 1. 0. 0. 0. 0. 0. 0. 1. 0. 0. 0.\n",
      " 0. 0. 0. 0. 0. 0. 1. 0. 0. 1. 0. 0. 0. 0. 0. 0. 0. 0. 0. 0. 0. 0. 0. 0.\n",
      " 1. 0. 0. 0. 0. 0. 0. 0. 0. 0. 0. 0. 0. 0. 0. 0. 0. 0. 0. 0. 0. 0. 0. 0.\n",
      " 0. 0. 0. 0. 0. 0. 0. 0. 0. 0. 0. 0. 0. 0. 0. 0. 0. 1. 0. 0. 0. 0. 0. 0.\n",
      " 1. 0. 0. 0. 0. 0. 0. 0. 0. 0. 0. 0. 0. 0. 0. 0. 0. 0. 0. 0. 0. 0. 0. 0.\n",
      " 0. 0. 0. 0. 0. 0. 0. 0. 0. 0. 1. 0. 1. 0. 0. 0. 0. 0. 0. 0. 0. 0. 1. 0.\n",
      " 0. 0. 0. 0. 1. 0. 0. 0. 0. 0. 0. 0. 0. 0. 0. 0. 0. 0. 0. 0. 0. 0. 0. 0.\n",
      " 0. 0. 0. 0. 0. 0. 0. 0. 0. 0. 0. 0. 0. 0. 0. 0. 0. 0. 0. 0. 0. 0. 0. 0.\n",
      " 0. 0. 0. 0. 0. 0. 0. 0. 0. 0. 0. 0. 0. 0. 0. 1. 0. 0. 0. 0. 0. 0. 0. 0.\n",
      " 0. 0. 0. 0. 0. 0. 0. 0. 0. 0. 0. 0. 0. 0. 0. 0. 0. 0. 0. 0. 1. 0. 0. 0.\n",
      " 0. 0. 0. 0. 0. 1. 0. 1. 0. 0. 0. 0. 0. 0. 0. 0. 0. 0. 1. 0. 0. 0. 0. 0.\n",
      " 1. 0. 0. 0. 0. 0. 1. 0. 0. 0. 0. 0. 0. 0. 0. 1. 0. 0. 0. 0. 0. 0. 0. 0.\n",
      " 0. 0. 0. 0. 0. 0. 0. 0. 0. 0. 0. 0. 0. 0. 0. 0. 0. 0. 0. 0. 0. 0. 0. 0.\n",
      " 0. 0. 0. 0. 0. 0. 0. 0. 0. 0. 0. 0. 1. 0. 0. 0. 0. 1. 0. 0. 0. 0. 1. 1.\n",
      " 0. 0. 0. 0. 0. 0. 0. 0. 0. 0. 0. 0. 0. 0. 0. 0. 0. 0. 0. 1. 0. 0. 0. 0.\n",
      " 0. 0. 0. 0. 0. 0. 0. 0. 0. 0. 0. 0. 0. 0. 0. 0. 0. 0. 0. 0. 0. 0. 0. 0.\n",
      " 0. 0. 0. 0. 0. 0. 0. 0. 0. 0. 0. 0. 0. 0. 0. 0. 0. 0. 0. 0. 0. 0. 0. 0.\n",
      " 0. 0. 0. 0. 0. 0. 0. 0. 0. 0. 0. 0. 0. 0. 0. 0. 0. 0. 0. 0. 0. 0. 0. 0.\n",
      " 0. 0. 0. 0. 0. 0. 0. 0. 0. 0. 0. 0. 0. 0. 0. 0. 0. 0. 0. 0. 0. 0. 0. 0.]\n"
     ]
    }
   ],
   "source": [
    "print(len(body_text[0]))\n",
    "print(body_text[0])"
   ]
  },
  {
   "cell_type": "code",
   "execution_count": 28,
   "metadata": {},
   "outputs": [
    {
     "name": "stdout",
     "output_type": "stream",
     "text": [
      "(150000, 600)\n"
     ]
    }
   ],
   "source": [
    "print(body_text.shape) #  final size of the term matrix "
   ]
  },
  {
   "cell_type": "code",
   "execution_count": 29,
   "metadata": {},
   "outputs": [
    {
     "name": "stdout",
     "output_type": "stream",
     "text": [
      "333205\n"
     ]
    }
   ],
   "source": [
    "words=processor._tokenizer.word_index\n",
    "word_lookup=list()\n",
    "for i in words.keys():\n",
    "    word_lookup.append(i)\n",
    "print(len(word_lookup))"
   ]
  },
  {
   "cell_type": "markdown",
   "metadata": {},
   "source": [
    "# neural network"
   ]
  },
  {
   "cell_type": "code",
   "execution_count": 30,
   "metadata": {},
   "outputs": [],
   "source": [
    "#load_processor=pickle.load(open('processor_state_f.pkl','rb'))"
   ]
  },
  {
   "cell_type": "code",
   "execution_count": 30,
   "metadata": {},
   "outputs": [
    {
     "name": "stderr",
     "output_type": "stream",
     "text": [
      "WARNING: Logging before flag parsing goes to stderr.\n",
      "W0921 18:25:28.270692  3076 deprecation.py:506] From c:\\python 3.6\\lib\\site-packages\\tensorflow\\python\\ops\\init_ops.py:1251: calling VarianceScaling.__init__ (from tensorflow.python.ops.init_ops) with dtype is deprecated and will be removed in a future version.\n",
      "Instructions for updating:\n",
      "Call initializer instance with the dtype argument instead of passing it to the constructor\n",
      "W0921 18:25:28.706672  3076 deprecation.py:323] From c:\\python 3.6\\lib\\site-packages\\tensorflow\\python\\ops\\nn_impl.py:180: add_dispatch_support.<locals>.wrapper (from tensorflow.python.ops.array_ops) is deprecated and will be removed in a future version.\n",
      "Instructions for updating:\n",
      "Use tf.where in 2.0, which has the same broadcast rule as np.where\n"
     ]
    },
    {
     "name": "stdout",
     "output_type": "stream",
     "text": [
      "Model: \"sequential\"\n",
      "_________________________________________________________________\n",
      "Layer (type)                 Output Shape              Param #   \n",
      "=================================================================\n",
      "dense (Dense)                (None, 128)               76928     \n",
      "_________________________________________________________________\n",
      "dense_1 (Dense)              (None, 50)                6450      \n",
      "_________________________________________________________________\n",
      "dropout (Dropout)            (None, 50)                0         \n",
      "_________________________________________________________________\n",
      "dense_2 (Dense)              (None, 30)                1530      \n",
      "_________________________________________________________________\n",
      "dropout_1 (Dropout)          (None, 30)                0         \n",
      "_________________________________________________________________\n",
      "dense_3 (Dense)              (None, 21528)             667368    \n",
      "=================================================================\n",
      "Total params: 752,276\n",
      "Trainable params: 752,276\n",
      "Non-trainable params: 0\n",
      "_________________________________________________________________\n"
     ]
    }
   ],
   "source": [
    "#create model\n",
    "#def create_model(num_topics,vocab_size):\n",
    "model=Sequential()\n",
    "model.add(Dense(128,input_shape=(vocab_size,),activation='relu'))\n",
    "model.add(Dense(50,activation='relu' ))\n",
    "model.add(Dropout(0.5))\n",
    "#model.add(Dense(32,activation='relu'))\n",
    "model.add(Dense(30,activation='relu' ))\n",
    "model.add(Dropout(0.5))\n",
    "model.add(Dense(num_tags,activation='sigmoid'))\n",
    "#adam=adam(lr=0.0001,beta_1=0.9, beta_2=0.999, epsilon=None, decay=0.0, amsgrad=False)\n",
    "#model=create_model(num_tags,vocab_size)\n",
    "model.compile(optimizer='sgd',loss='binary_crossentropy',metrics=['accuracy'])\n",
    "model.summary()"
   ]
  },
  {
   "cell_type": "code",
   "execution_count": 31,
   "metadata": {},
   "outputs": [
    {
     "name": "stdout",
     "output_type": "stream",
     "text": [
      "Train on 135000 samples, validate on 15000 samples\n",
      "Epoch 1/31\n",
      "135000/135000 [==============================] - 206s 2ms/sample - loss: 0.6931 - acc: 0.5061 - val_loss: 0.6930 - val_acc: 0.5199\n",
      "Epoch 2/31\n",
      "135000/135000 [==============================] - 213s 2ms/sample - loss: 0.6929 - acc: 0.5189 - val_loss: 0.6928 - val_acc: 0.5413\n",
      "Epoch 3/31\n",
      "135000/135000 [==============================] - 210s 2ms/sample - loss: 0.6927 - acc: 0.5316 - val_loss: 0.6926 - val_acc: 0.5622\n",
      "Epoch 4/31\n",
      "135000/135000 [==============================] - 188s 1ms/sample - loss: 0.6925 - acc: 0.5440 - val_loss: 0.6925 - val_acc: 0.5826\n",
      "Epoch 5/31\n",
      "135000/135000 [==============================] - 202s 1ms/sample - loss: 0.6923 - acc: 0.5562 - val_loss: 0.6923 - val_acc: 0.6022\n",
      "Epoch 6/31\n",
      "135000/135000 [==============================] - 206s 2ms/sample - loss: 0.6921 - acc: 0.5681 - val_loss: 0.6921 - val_acc: 0.6208\n",
      "Epoch 7/31\n",
      "135000/135000 [==============================] - 194s 1ms/sample - loss: 0.6919 - acc: 0.5794 - val_loss: 0.6919 - val_acc: 0.6384\n",
      "Epoch 8/31\n",
      "135000/135000 [==============================] - 207s 2ms/sample - loss: 0.6917 - acc: 0.5904 - val_loss: 0.6917 - val_acc: 0.6548\n",
      "Epoch 9/31\n",
      "135000/135000 [==============================] - 188s 1ms/sample - loss: 0.6915 - acc: 0.6006 - val_loss: 0.6915 - val_acc: 0.6700\n",
      "Epoch 10/31\n",
      "135000/135000 [==============================] - 205s 2ms/sample - loss: 0.6913 - acc: 0.6105 - val_loss: 0.6912 - val_acc: 0.6839\n",
      "Epoch 11/31\n",
      "135000/135000 [==============================] - 213s 2ms/sample - loss: 0.6910 - acc: 0.6196 - val_loss: 0.6910 - val_acc: 0.6967\n",
      "Epoch 12/31\n",
      "135000/135000 [==============================] - 182s 1ms/sample - loss: 0.6908 - acc: 0.6284 - val_loss: 0.6907 - val_acc: 0.7083\n",
      "Epoch 13/31\n",
      "135000/135000 [==============================] - 199s 1ms/sample - loss: 0.6905 - acc: 0.6366 - val_loss: 0.6904 - val_acc: 0.7188\n",
      "Epoch 14/31\n",
      "135000/135000 [==============================] - 204s 2ms/sample - loss: 0.6902 - acc: 0.6443 - val_loss: 0.6901 - val_acc: 0.7283\n",
      "Epoch 15/31\n",
      "135000/135000 [==============================] - 207s 2ms/sample - loss: 0.6898 - acc: 0.6513 - val_loss: 0.6897 - val_acc: 0.7369\n",
      "Epoch 16/31\n",
      "135000/135000 [==============================] - 206s 2ms/sample - loss: 0.6894 - acc: 0.6579 - val_loss: 0.6893 - val_acc: 0.7448\n",
      "Epoch 17/31\n",
      "135000/135000 [==============================] - 203s 2ms/sample - loss: 0.6889 - acc: 0.6642 - val_loss: 0.6888 - val_acc: 0.7522\n",
      "Epoch 18/31\n",
      "135000/135000 [==============================] - 248s 2ms/sample - loss: 0.6883 - acc: 0.6701 - val_loss: 0.6881 - val_acc: 0.7593\n",
      "Epoch 19/31\n",
      "135000/135000 [==============================] - 209s 2ms/sample - loss: 0.6876 - acc: 0.6764 - val_loss: 0.6873 - val_acc: 0.7665\n",
      "Epoch 20/31\n",
      "135000/135000 [==============================] - 231s 2ms/sample - loss: 0.6867 - acc: 0.6826 - val_loss: 0.6863 - val_acc: 0.7743\n",
      "Epoch 21/31\n",
      "135000/135000 [==============================] - 224s 2ms/sample - loss: 0.6855 - acc: 0.6895 - val_loss: 0.6849 - val_acc: 0.7830\n",
      "Epoch 22/31\n",
      "135000/135000 [==============================] - 227s 2ms/sample - loss: 0.6839 - acc: 0.6974 - val_loss: 0.6831 - val_acc: 0.7934\n",
      "Epoch 23/31\n",
      "135000/135000 [==============================] - 209s 2ms/sample - loss: 0.6817 - acc: 0.7068 - val_loss: 0.6804 - val_acc: 0.8062\n",
      "Epoch 24/31\n",
      "135000/135000 [==============================] - 194s 1ms/sample - loss: 0.6784 - acc: 0.7187 - val_loss: 0.6763 - val_acc: 0.8225\n",
      "Epoch 25/31\n",
      "135000/135000 [==============================] - 209s 2ms/sample - loss: 0.6732 - acc: 0.7342 - val_loss: 0.6696 - val_acc: 0.8437\n",
      "Epoch 26/31\n",
      "135000/135000 [==============================] - 218s 2ms/sample - loss: 0.6645 - acc: 0.7553 - val_loss: 0.6577 - val_acc: 0.8719\n",
      "Epoch 27/31\n",
      "135000/135000 [==============================] - 213s 2ms/sample - loss: 0.6479 - acc: 0.7847 - val_loss: 0.6336 - val_acc: 0.9089\n",
      "Epoch 28/31\n",
      "135000/135000 [==============================] - 248s 2ms/sample - loss: 0.6132 - acc: 0.8265 - val_loss: 0.5787 - val_acc: 0.9531\n",
      "Epoch 29/31\n",
      "135000/135000 [==============================] - 289s 2ms/sample - loss: 0.5324 - acc: 0.8849 - val_loss: 0.4477 - val_acc: 0.9900\n",
      "Epoch 30/31\n",
      "135000/135000 [==============================] - 352s 3ms/sample - loss: 0.3761 - acc: 0.9477 - val_loss: 0.2370 - val_acc: 0.9998\n",
      "Epoch 31/31\n",
      "135000/135000 [==============================] - 248s 2ms/sample - loss: 0.2072 - acc: 0.9836 - val_loss: 0.0935 - val_acc: 0.9999\n"
     ]
    },
    {
     "data": {
      "text/plain": [
       "<tensorflow.python.keras.callbacks.History at 0x1fb0ee25358>"
      ]
     },
     "execution_count": 31,
     "metadata": {},
     "output_type": "execute_result"
    }
   ],
   "source": [
    "model.fit(body_text,topic_encoded,epochs=31,batch_size=128,validation_split=0.1)"
   ]
  },
  {
   "cell_type": "code",
   "execution_count": 48,
   "metadata": {},
   "outputs": [
    {
     "ename": "TypeError",
     "evalue": "can't pickle _thread.RLock objects",
     "output_type": "error",
     "traceback": [
      "\u001b[1;31m---------------------------------------------------------------------------\u001b[0m",
      "\u001b[1;31mTypeError\u001b[0m                                 Traceback (most recent call last)",
      "\u001b[1;32m<ipython-input-48-b447d70e04ca>\u001b[0m in \u001b[0;36m<module>\u001b[1;34m\u001b[0m\n\u001b[0;32m      1\u001b[0m \u001b[1;31m#pickel_model=pickle.dump()\u001b[0m\u001b[1;33m\u001b[0m\u001b[1;33m\u001b[0m\u001b[1;33m\u001b[0m\u001b[0m\n\u001b[0;32m      2\u001b[0m \u001b[1;32mwith\u001b[0m \u001b[0mopen\u001b[0m\u001b[1;33m(\u001b[0m\u001b[1;34m'./model_state_31.pkl'\u001b[0m\u001b[1;33m,\u001b[0m\u001b[1;34m'wb'\u001b[0m\u001b[1;33m)\u001b[0m \u001b[1;32mas\u001b[0m \u001b[0mf\u001b[0m\u001b[1;33m:\u001b[0m\u001b[1;33m\u001b[0m\u001b[1;33m\u001b[0m\u001b[0m\n\u001b[1;32m----> 3\u001b[1;33m     \u001b[0mpickle\u001b[0m\u001b[1;33m.\u001b[0m\u001b[0mdump\u001b[0m\u001b[1;33m(\u001b[0m\u001b[0mmodel\u001b[0m\u001b[1;33m,\u001b[0m\u001b[0mf\u001b[0m\u001b[1;33m)\u001b[0m\u001b[1;33m\u001b[0m\u001b[1;33m\u001b[0m\u001b[0m\n\u001b[0m",
      "\u001b[1;31mTypeError\u001b[0m: can't pickle _thread.RLock objects"
     ]
    }
   ],
   "source": [
    "#pickel_model=pickle.dump()\n",
    "with open('./model_state_31.pkl','wb') as f:\n",
    "    pickle.dump(model,f)"
   ]
  },
  {
   "cell_type": "code",
   "execution_count": 33,
   "metadata": {},
   "outputs": [],
   "source": [
    "## for 0.5 drop out accuracy are for \n",
    "#1.epoch 25 71.64 40 99.73% 32 82%\n",
    "##for 0.6 drop out accuracy are for\n",
    "#1.epoch29 74.9% 31 83.43% 35  98.68%"
   ]
  },
  {
   "cell_type": "markdown",
   "metadata": {},
   "source": [
    "# now our model is ready for the predictions.Let's test this model using test data"
   ]
  },
  {
   "cell_type": "markdown",
   "metadata": {},
   "source": [
    "# read the test data"
   ]
  },
  {
   "cell_type": "code",
   "execution_count": 32,
   "metadata": {},
   "outputs": [],
   "source": [
    "test=pd.read_csv(\"E:/TCS_data/test.csv\")"
   ]
  },
  {
   "cell_type": "code",
   "execution_count": 33,
   "metadata": {},
   "outputs": [
    {
     "data": {
      "text/html": [
       "<div>\n",
       "<style scoped>\n",
       "    .dataframe tbody tr th:only-of-type {\n",
       "        vertical-align: middle;\n",
       "    }\n",
       "\n",
       "    .dataframe tbody tr th {\n",
       "        vertical-align: top;\n",
       "    }\n",
       "\n",
       "    .dataframe thead th {\n",
       "        text-align: right;\n",
       "    }\n",
       "</style>\n",
       "<table border=\"1\" class=\"dataframe\">\n",
       "  <thead>\n",
       "    <tr style=\"text-align: right;\">\n",
       "      <th></th>\n",
       "      <th>Id</th>\n",
       "      <th>Title</th>\n",
       "      <th>Body</th>\n",
       "    </tr>\n",
       "  </thead>\n",
       "  <tbody>\n",
       "    <tr>\n",
       "      <th>0</th>\n",
       "      <td>6034196</td>\n",
       "      <td>Getting rid of site-specific hotkeys</td>\n",
       "      <td>&lt;p&gt;How do I disable site-specific hotkeys if (...</td>\n",
       "    </tr>\n",
       "    <tr>\n",
       "      <th>1</th>\n",
       "      <td>6034197</td>\n",
       "      <td>Nodes inside Cisco VPN. Incoming SSH requests ...</td>\n",
       "      <td>&lt;p&gt;I've a gateway-to-gateway VPN setup between...</td>\n",
       "    </tr>\n",
       "    <tr>\n",
       "      <th>2</th>\n",
       "      <td>6034198</td>\n",
       "      <td>Remove old vCenter servers from VMWare vSphere...</td>\n",
       "      <td>&lt;p&gt;After changing our vCenter servers recently...</td>\n",
       "    </tr>\n",
       "    <tr>\n",
       "      <th>3</th>\n",
       "      <td>6034199</td>\n",
       "      <td>Replace &lt;span&gt; element with var containing html</td>\n",
       "      <td>&lt;p&gt;I have a variable i lifted the contents of,...</td>\n",
       "    </tr>\n",
       "    <tr>\n",
       "      <th>4</th>\n",
       "      <td>6034200</td>\n",
       "      <td>Will PHP included html content affect my seo?</td>\n",
       "      <td>&lt;p&gt;Today i purchase a small CMS system. With t...</td>\n",
       "    </tr>\n",
       "  </tbody>\n",
       "</table>\n",
       "</div>"
      ],
      "text/plain": [
       "        Id                                              Title  \\\n",
       "0  6034196               Getting rid of site-specific hotkeys   \n",
       "1  6034197  Nodes inside Cisco VPN. Incoming SSH requests ...   \n",
       "2  6034198  Remove old vCenter servers from VMWare vSphere...   \n",
       "3  6034199    Replace <span> element with var containing html   \n",
       "4  6034200      Will PHP included html content affect my seo?   \n",
       "\n",
       "                                                Body  \n",
       "0  <p>How do I disable site-specific hotkeys if (...  \n",
       "1  <p>I've a gateway-to-gateway VPN setup between...  \n",
       "2  <p>After changing our vCenter servers recently...  \n",
       "3  <p>I have a variable i lifted the contents of,...  \n",
       "4  <p>Today i purchase a small CMS system. With t...  "
      ]
     },
     "execution_count": 33,
     "metadata": {},
     "output_type": "execute_result"
    }
   ],
   "source": [
    "test.head() #top 5 rown of the test data"
   ]
  },
  {
   "cell_type": "code",
   "execution_count": 34,
   "metadata": {},
   "outputs": [
    {
     "data": {
      "text/plain": [
       "(10000, 3)"
      ]
     },
     "execution_count": 34,
     "metadata": {},
     "output_type": "execute_result"
    }
   ],
   "source": [
    "test.shape # shape of the test data"
   ]
  },
  {
   "cell_type": "code",
   "execution_count": 35,
   "metadata": {},
   "outputs": [],
   "source": [
    "train=train.drop_duplicates() # drop_duplicates of test_data"
   ]
  },
  {
   "cell_type": "code",
   "execution_count": 36,
   "metadata": {},
   "outputs": [],
   "source": [
    "for i in range(test.shape[0]):#remove html tags\n",
    "    test.loc[i, 'Body'] = remove_html(test.loc[i,'Body'])"
   ]
  },
  {
   "cell_type": "code",
   "execution_count": 37,
   "metadata": {},
   "outputs": [],
   "source": [
    "for column in test: # remove everything else which is scrap in the test dataset\n",
    "    if(column=='Title' or column=='Body'):\n",
    "        for i in range(test.shape[0]):\n",
    "            test.loc[i, column] =clean_words(test.loc[i,column])"
   ]
  },
  {
   "cell_type": "code",
   "execution_count": 38,
   "metadata": {},
   "outputs": [],
   "source": [
    "#tokenization\n",
    "tokenized_doc_body_test=test['Body'].apply(lambda x:x.split())\n",
    "tokenized_doc_title_test=test['Title'].apply(lambda x:x.split())\n",
    "#remove stop_words\n",
    "tokenized_doc_body_test=tokenized_doc_body_test.apply(lambda x:[item for item in x if item not in stop_words])\n",
    "tokenized_doc_title_test=tokenized_doc_title_test.apply(lambda x:[item for item in x if item not in stop_words])\n",
    "#de-tokenization\n",
    "detokenized_doc_body_test=[]\n",
    "detokenized_doc_title_test=[]\n",
    "for i in range(test.shape[0]):\n",
    "    t1=' '.join(tokenized_doc_body_test[i])\n",
    "    t2=' '.join(tokenized_doc_title_test[i])\n",
    "    detokenized_doc_body_test.append(t1)\n",
    "    detokenized_doc_title_test.append(t2)\n",
    "test['Body']= detokenized_doc_body_test\n",
    "#test['Title']= detokenized_doc_title_test"
   ]
  },
  {
   "cell_type": "code",
   "execution_count": 41,
   "metadata": {},
   "outputs": [
    {
     "data": {
      "text/html": [
       "<div>\n",
       "<style scoped>\n",
       "    .dataframe tbody tr th:only-of-type {\n",
       "        vertical-align: middle;\n",
       "    }\n",
       "\n",
       "    .dataframe tbody tr th {\n",
       "        vertical-align: top;\n",
       "    }\n",
       "\n",
       "    .dataframe thead th {\n",
       "        text-align: right;\n",
       "    }\n",
       "</style>\n",
       "<table border=\"1\" class=\"dataframe\">\n",
       "  <thead>\n",
       "    <tr style=\"text-align: right;\">\n",
       "      <th></th>\n",
       "      <th>Id</th>\n",
       "      <th>Title</th>\n",
       "      <th>Body</th>\n",
       "    </tr>\n",
       "  </thead>\n",
       "  <tbody>\n",
       "    <tr>\n",
       "      <th>0</th>\n",
       "      <td>6034196</td>\n",
       "      <td>getting rid site specific hotkeys</td>\n",
       "      <td>disable site specific hotkeys already mapped o...</td>\n",
       "    </tr>\n",
       "    <tr>\n",
       "      <th>1</th>\n",
       "      <td>6034197</td>\n",
       "      <td>nodes inside cisco vpn incoming ssh requests a...</td>\n",
       "      <td>gateway gateway vpn setup linksys rv router ci...</td>\n",
       "    </tr>\n",
       "    <tr>\n",
       "      <th>2</th>\n",
       "      <td>6034198</td>\n",
       "      <td>remove old vcenter servers vmware vsphere clie...</td>\n",
       "      <td>changing vcenter servers recently old vcenter ...</td>\n",
       "    </tr>\n",
       "    <tr>\n",
       "      <th>3</th>\n",
       "      <td>6034199</td>\n",
       "      <td>replace span element var containing html</td>\n",
       "      <td>variable lifted contents div page like var ori...</td>\n",
       "    </tr>\n",
       "    <tr>\n",
       "      <th>4</th>\n",
       "      <td>6034200</td>\n",
       "      <td>php included html content affect seo</td>\n",
       "      <td>today purchase small cms system cms transform ...</td>\n",
       "    </tr>\n",
       "  </tbody>\n",
       "</table>\n",
       "</div>"
      ],
      "text/plain": [
       "        Id                                              Title  \\\n",
       "0  6034196                  getting rid site specific hotkeys   \n",
       "1  6034197  nodes inside cisco vpn incoming ssh requests a...   \n",
       "2  6034198  remove old vcenter servers vmware vsphere clie...   \n",
       "3  6034199           replace span element var containing html   \n",
       "4  6034200               php included html content affect seo   \n",
       "\n",
       "                                                Body  \n",
       "0  disable site specific hotkeys already mapped o...  \n",
       "1  gateway gateway vpn setup linksys rv router ci...  \n",
       "2  changing vcenter servers recently old vcenter ...  \n",
       "3  variable lifted contents div page like var ori...  \n",
       "4  today purchase small cms system cms transform ...  "
      ]
     },
     "execution_count": 41,
     "metadata": {},
     "output_type": "execute_result"
    }
   ],
   "source": [
    "test.head()"
   ]
  },
  {
   "cell_type": "code",
   "execution_count": 43,
   "metadata": {},
   "outputs": [],
   "source": [
    "test=shuffle(test,random_state=505)"
   ]
  },
  {
   "cell_type": "code",
   "execution_count": 44,
   "metadata": {},
   "outputs": [
    {
     "data": {
      "text/html": [
       "<div>\n",
       "<style scoped>\n",
       "    .dataframe tbody tr th:only-of-type {\n",
       "        vertical-align: middle;\n",
       "    }\n",
       "\n",
       "    .dataframe tbody tr th {\n",
       "        vertical-align: top;\n",
       "    }\n",
       "\n",
       "    .dataframe thead th {\n",
       "        text-align: right;\n",
       "    }\n",
       "</style>\n",
       "<table border=\"1\" class=\"dataframe\">\n",
       "  <thead>\n",
       "    <tr style=\"text-align: right;\">\n",
       "      <th></th>\n",
       "      <th>Id</th>\n",
       "      <th>Title</th>\n",
       "      <th>Body</th>\n",
       "    </tr>\n",
       "  </thead>\n",
       "  <tbody>\n",
       "    <tr>\n",
       "      <th>8781</th>\n",
       "      <td>6042977</td>\n",
       "      <td>ruby sequel last_insert_id method</td>\n",
       "      <td>insert need know id row</td>\n",
       "    </tr>\n",
       "    <tr>\n",
       "      <th>3348</th>\n",
       "      <td>6037544</td>\n",
       "      <td>good idea always define clustered index databa...</td>\n",
       "      <td>currently looking performance problem widely u...</td>\n",
       "    </tr>\n",
       "    <tr>\n",
       "      <th>5064</th>\n",
       "      <td>6039260</td>\n",
       "      <td>android api alphaanimation current alpha</td>\n",
       "      <td>try setup animation textview android api curre...</td>\n",
       "    </tr>\n",
       "    <tr>\n",
       "      <th>8057</th>\n",
       "      <td>6042253</td>\n",
       "      <td>jquery working object expected</td>\n",
       "      <td>following object var objectvar key key name it...</td>\n",
       "    </tr>\n",
       "    <tr>\n",
       "      <th>6115</th>\n",
       "      <td>6040311</td>\n",
       "      <td>dbus signals received window focused</td>\n",
       "      <td>trying add dbus support application seems ever...</td>\n",
       "    </tr>\n",
       "  </tbody>\n",
       "</table>\n",
       "</div>"
      ],
      "text/plain": [
       "           Id                                              Title  \\\n",
       "8781  6042977                  ruby sequel last_insert_id method   \n",
       "3348  6037544  good idea always define clustered index databa...   \n",
       "5064  6039260           android api alphaanimation current alpha   \n",
       "8057  6042253                     jquery working object expected   \n",
       "6115  6040311               dbus signals received window focused   \n",
       "\n",
       "                                                   Body  \n",
       "8781                            insert need know id row  \n",
       "3348  currently looking performance problem widely u...  \n",
       "5064  try setup animation textview android api curre...  \n",
       "8057  following object var objectvar key key name it...  \n",
       "6115  trying add dbus support application seems ever...  "
      ]
     },
     "execution_count": 44,
     "metadata": {},
     "output_type": "execute_result"
    }
   ],
   "source": [
    "test.head()"
   ]
  },
  {
   "cell_type": "code",
   "execution_count": 39,
   "metadata": {},
   "outputs": [],
   "source": [
    "test_body=test['Body'].values\n",
    "#test_title=test['Title'].values#getting the values of the columns of body and title"
   ]
  },
  {
   "cell_type": "code",
   "execution_count": 45,
   "metadata": {},
   "outputs": [],
   "source": [
    "#creating the term matrix for the test data\n",
    "vocab_size=600\n",
    "processor=TextPreprocessor(vocab_size)\n",
    "processor.create_tokenizer(test_body)\n",
    "body_text_test=processor.transform_text(test_body)\n",
    "#body_title_test=processor.transform_text(test_tile)"
   ]
  },
  {
   "cell_type": "code",
   "execution_count": null,
   "metadata": {},
   "outputs": [],
   "source": [
    "#total_data_test=np.hstack(body_title_test,body_text_test)#horizontal stacking up of test body and title columns"
   ]
  },
  {
   "cell_type": "markdown",
   "metadata": {},
   "source": [
    "# finally we are at predictions step,the predicted_labels contains the tags for the test data."
   ]
  },
  {
   "cell_type": "code",
   "execution_count": 46,
   "metadata": {},
   "outputs": [],
   "source": [
    "predicted_labels=model.predict(body_text_test,batch_size=128)#predictions"
   ]
  },
  {
   "cell_type": "code",
   "execution_count": 47,
   "metadata": {},
   "outputs": [
    {
     "data": {
      "text/plain": [
       "array([[0.06210372, 0.1209721 , 0.03556392, ..., 0.12605056, 0.06100351,\n",
       "        0.06527048],\n",
       "       [0.06656584, 0.12484285, 0.03850481, ..., 0.13428098, 0.06527838,\n",
       "        0.06925729],\n",
       "       [0.16988441, 0.23927364, 0.12391612, ..., 0.246604  , 0.1693069 ,\n",
       "        0.17285177],\n",
       "       ...,\n",
       "       [0.03837588, 0.08661529, 0.01946965, ..., 0.09434745, 0.03767213,\n",
       "        0.0413065 ],\n",
       "       [0.21625131, 0.27989787, 0.17344266, ..., 0.28768718, 0.21595147,\n",
       "        0.2212593 ],\n",
       "       [0.1594089 , 0.22713488, 0.11529279, ..., 0.23425236, 0.15595236,\n",
       "        0.1625748 ]], dtype=float32)"
      ]
     },
     "execution_count": 47,
     "metadata": {},
     "output_type": "execute_result"
    }
   ],
   "source": [
    "predicted_labels"
   ]
  },
  {
   "cell_type": "markdown",
   "metadata": {},
   "source": [
    "# this is my idea for the given problem statement using NLP and deep learning."
   ]
  }
 ],
 "metadata": {
  "kernelspec": {
   "display_name": "Python 3",
   "language": "python",
   "name": "python3"
  },
  "language_info": {
   "codemirror_mode": {
    "name": "ipython",
    "version": 3
   },
   "file_extension": ".py",
   "mimetype": "text/x-python",
   "name": "python",
   "nbconvert_exporter": "python",
   "pygments_lexer": "ipython3",
   "version": "3.6.7"
  }
 },
 "nbformat": 4,
 "nbformat_minor": 2
}
